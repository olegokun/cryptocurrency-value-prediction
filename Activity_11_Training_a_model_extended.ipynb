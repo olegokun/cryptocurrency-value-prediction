{
 "cells": [
  {
   "cell_type": "markdown",
   "metadata": {},
   "source": [
    "#### Magic Commands\n",
    "Magic commands (those that start with `%`) are commands that modify a configuration of Jupyter Notebooks. A number of magic commands are available by default (see list [here](http://ipython.readthedocs.io/en/stable/interactive/magics.html))--and many more can be added with extensions. The magic command added in this section allows `matplotlib` to display our plots directly on the browser instead of having to save them on a local file."
   ]
  },
  {
   "cell_type": "code",
   "execution_count": 1,
   "metadata": {},
   "outputs": [],
   "source": [
    "%matplotlib inline"
   ]
  },
  {
   "cell_type": "markdown",
   "metadata": {},
   "source": [
    "# Activity 11: Training several models\n",
    "In this activity, we train our model and two other models (for estimating the prediction interval) before their deployment with Docker.\n",
    "\n",
    "First, we start by importing `cryptonic`. Cryptonic is a simple software application developed for this course that implements all the steps up to this section using Python classes and modules. Consider Cryptonic a template on how you could develop similar applications."
   ]
  },
  {
   "cell_type": "code",
   "execution_count": 2,
   "metadata": {},
   "outputs": [
    {
     "name": "stdout",
     "output_type": "stream",
     "text": [
      "C:\\eBooks\\Beginning Application Development with TensorFlow and Keras\\Lesson-4\\activity_9\n"
     ]
    }
   ],
   "source": [
    "cd C:/eBooks/Beginning Application Development with TensorFlow and Keras/Lesson-4/activity_9"
   ]
  },
  {
   "cell_type": "code",
   "execution_count": 3,
   "metadata": {},
   "outputs": [
    {
     "data": {
      "text/plain": [
       "True"
      ]
     },
     "execution_count": 3,
     "metadata": {},
     "output_type": "execute_result"
    }
   ],
   "source": [
    "import pandas as pd\n",
    "import matplotlib.pylab as plt\n",
    "import os\n",
    "from dotenv import load_dotenv\n",
    "from pathlib import Path\n",
    "env_path = Path('.')/'crypto.env'\n",
    "load_dotenv(dotenv_path=env_path)"
   ]
  },
  {
   "cell_type": "code",
   "execution_count": 4,
   "metadata": {},
   "outputs": [],
   "source": [
    "plt.style.use('seaborn-white')"
   ]
  },
  {
   "cell_type": "code",
   "execution_count": 5,
   "metadata": {},
   "outputs": [
    {
     "name": "stderr",
     "output_type": "stream",
     "text": [
      "Using TensorFlow backend.\n",
      "C:\\Users\\Oleg\\Anaconda3\\envs\\appdev\\lib\\site-packages\\tensorflow\\python\\framework\\dtypes.py:469: FutureWarning: Passing (type, 1) or '1type' as a synonym of type is deprecated; in a future version of numpy, it will be understood as (type, (1,)) / '(1,)type'.\n",
      "  _np_qint8 = np.dtype([(\"qint8\", np.int8, 1)])\n",
      "C:\\Users\\Oleg\\Anaconda3\\envs\\appdev\\lib\\site-packages\\tensorflow\\python\\framework\\dtypes.py:470: FutureWarning: Passing (type, 1) or '1type' as a synonym of type is deprecated; in a future version of numpy, it will be understood as (type, (1,)) / '(1,)type'.\n",
      "  _np_quint8 = np.dtype([(\"quint8\", np.uint8, 1)])\n",
      "C:\\Users\\Oleg\\Anaconda3\\envs\\appdev\\lib\\site-packages\\tensorflow\\python\\framework\\dtypes.py:471: FutureWarning: Passing (type, 1) or '1type' as a synonym of type is deprecated; in a future version of numpy, it will be understood as (type, (1,)) / '(1,)type'.\n",
      "  _np_qint16 = np.dtype([(\"qint16\", np.int16, 1)])\n",
      "C:\\Users\\Oleg\\Anaconda3\\envs\\appdev\\lib\\site-packages\\tensorflow\\python\\framework\\dtypes.py:472: FutureWarning: Passing (type, 1) or '1type' as a synonym of type is deprecated; in a future version of numpy, it will be understood as (type, (1,)) / '(1,)type'.\n",
      "  _np_quint16 = np.dtype([(\"quint16\", np.uint16, 1)])\n",
      "C:\\Users\\Oleg\\Anaconda3\\envs\\appdev\\lib\\site-packages\\tensorflow\\python\\framework\\dtypes.py:473: FutureWarning: Passing (type, 1) or '1type' as a synonym of type is deprecated; in a future version of numpy, it will be understood as (type, (1,)) / '(1,)type'.\n",
      "  _np_qint32 = np.dtype([(\"qint32\", np.int32, 1)])\n",
      "C:\\Users\\Oleg\\Anaconda3\\envs\\appdev\\lib\\site-packages\\tensorflow\\python\\framework\\dtypes.py:476: FutureWarning: Passing (type, 1) or '1type' as a synonym of type is deprecated; in a future version of numpy, it will be understood as (type, (1,)) / '(1,)type'.\n",
      "  np_resource = np.dtype([(\"resource\", np.ubyte, 1)])\n"
     ]
    }
   ],
   "source": [
    "from cryptonic.models.model import Model\n",
    "from cryptonic.markets.coinmarketcap import CoinMarketCap"
   ]
  },
  {
   "cell_type": "markdown",
   "metadata": {},
   "source": [
    "### Fecthing Real-time Data\n",
    "Throughout this project we have been using data originally provided by [CoinMarketCat](https://coinmarketcap.com/). We have created an interface for collecting both real-time and historical data as as part of `cryptonic`: the class `CoinMarketCap()`."
   ]
  },
  {
   "cell_type": "markdown",
   "metadata": {},
   "source": [
    "Our model is designed to work with daily data. Let's go ahead and collect historic daily data from CoinMarketCap (this is the same data used previously)."
   ]
  },
  {
   "cell_type": "code",
   "execution_count": 6,
   "metadata": {},
   "outputs": [],
   "source": [
    "historic_data = CoinMarketCap.historic(ticker=os.getenv('COIN_TYPE'))"
   ]
  },
  {
   "cell_type": "markdown",
   "metadata": {},
   "source": [
    "The data contains practically the same variables from our earlier dataset. However, much of the data comes from an earlier period. Recent Bitcoin prices have gained a lot of volatility if compared to the prices of a few years ago. Before using this data in our model, let's make sure to filter it to dates no older than a certain number of most recent weeks."
   ]
  },
  {
   "cell_type": "code",
   "execution_count": 7,
   "metadata": {},
   "outputs": [],
   "source": [
    "#  Using the Pandas API, filter the dataframe\n",
    "from datetime import datetime, timedelta\n",
    "\n",
    "time_ago = (datetime.now() - timedelta(days=7*int(os.getenv('WEEKS_BACK')))).strftime('%Y-%m-%d')\n",
    "model_data = historic_data[historic_data['date'] >= time_ago]"
   ]
  },
  {
   "cell_type": "code",
   "execution_count": 8,
   "metadata": {},
   "outputs": [
    {
     "data": {
      "text/html": [
       "<div>\n",
       "<style scoped>\n",
       "    .dataframe tbody tr th:only-of-type {\n",
       "        vertical-align: middle;\n",
       "    }\n",
       "\n",
       "    .dataframe tbody tr th {\n",
       "        vertical-align: top;\n",
       "    }\n",
       "\n",
       "    .dataframe thead th {\n",
       "        text-align: right;\n",
       "    }\n",
       "</style>\n",
       "<table border=\"1\" class=\"dataframe\">\n",
       "  <thead>\n",
       "    <tr style=\"text-align: right;\">\n",
       "      <th></th>\n",
       "      <th>date</th>\n",
       "      <th>open</th>\n",
       "      <th>high</th>\n",
       "      <th>low</th>\n",
       "      <th>close</th>\n",
       "      <th>volume</th>\n",
       "      <th>market_cap</th>\n",
       "    </tr>\n",
       "  </thead>\n",
       "  <tbody>\n",
       "    <tr>\n",
       "      <td>0</td>\n",
       "      <td>2020-01-23</td>\n",
       "      <td>8680.65</td>\n",
       "      <td>8687.75</td>\n",
       "      <td>8333.64</td>\n",
       "      <td>8406.52</td>\n",
       "      <td>25770680779</td>\n",
       "      <td>152813329633</td>\n",
       "    </tr>\n",
       "    <tr>\n",
       "      <td>1</td>\n",
       "      <td>2020-01-22</td>\n",
       "      <td>8744.21</td>\n",
       "      <td>8792.99</td>\n",
       "      <td>8636.75</td>\n",
       "      <td>8680.88</td>\n",
       "      <td>22600204051</td>\n",
       "      <td>157783273070</td>\n",
       "    </tr>\n",
       "    <tr>\n",
       "      <td>2</td>\n",
       "      <td>2020-01-21</td>\n",
       "      <td>8658.99</td>\n",
       "      <td>8755.71</td>\n",
       "      <td>8544.52</td>\n",
       "      <td>8745.89</td>\n",
       "      <td>24097418512</td>\n",
       "      <td>158947996834</td>\n",
       "    </tr>\n",
       "    <tr>\n",
       "      <td>3</td>\n",
       "      <td>2020-01-20</td>\n",
       "      <td>8704.63</td>\n",
       "      <td>8745.59</td>\n",
       "      <td>8560.47</td>\n",
       "      <td>8657.64</td>\n",
       "      <td>26422375678</td>\n",
       "      <td>157327553259</td>\n",
       "    </tr>\n",
       "    <tr>\n",
       "      <td>4</td>\n",
       "      <td>2020-01-19</td>\n",
       "      <td>8941.45</td>\n",
       "      <td>9164.36</td>\n",
       "      <td>8620.08</td>\n",
       "      <td>8706.25</td>\n",
       "      <td>34217320471</td>\n",
       "      <td>158194319735</td>\n",
       "    </tr>\n",
       "  </tbody>\n",
       "</table>\n",
       "</div>"
      ],
      "text/plain": [
       "         date     open     high      low    close       volume    market_cap\n",
       "0  2020-01-23  8680.65  8687.75  8333.64  8406.52  25770680779  152813329633\n",
       "1  2020-01-22  8744.21  8792.99  8636.75  8680.88  22600204051  157783273070\n",
       "2  2020-01-21  8658.99  8755.71  8544.52  8745.89  24097418512  158947996834\n",
       "3  2020-01-20  8704.63  8745.59  8560.47  8657.64  26422375678  157327553259\n",
       "4  2020-01-19  8941.45  9164.36  8620.08  8706.25  34217320471  158194319735"
      ]
     },
     "execution_count": 8,
     "metadata": {},
     "output_type": "execute_result"
    }
   ],
   "source": [
    "model_data.head(5)"
   ]
  },
  {
   "cell_type": "code",
   "execution_count": 9,
   "metadata": {},
   "outputs": [
    {
     "data": {
      "text/html": [
       "<div>\n",
       "<style scoped>\n",
       "    .dataframe tbody tr th:only-of-type {\n",
       "        vertical-align: middle;\n",
       "    }\n",
       "\n",
       "    .dataframe tbody tr th {\n",
       "        vertical-align: top;\n",
       "    }\n",
       "\n",
       "    .dataframe thead th {\n",
       "        text-align: right;\n",
       "    }\n",
       "</style>\n",
       "<table border=\"1\" class=\"dataframe\">\n",
       "  <thead>\n",
       "    <tr style=\"text-align: right;\">\n",
       "      <th></th>\n",
       "      <th>date</th>\n",
       "      <th>open</th>\n",
       "      <th>high</th>\n",
       "      <th>low</th>\n",
       "      <th>close</th>\n",
       "      <th>volume</th>\n",
       "      <th>market_cap</th>\n",
       "    </tr>\n",
       "  </thead>\n",
       "  <tbody>\n",
       "    <tr>\n",
       "      <td>275</td>\n",
       "      <td>2019-04-23</td>\n",
       "      <td>5399.37</td>\n",
       "      <td>5633.80</td>\n",
       "      <td>5389.41</td>\n",
       "      <td>5572.36</td>\n",
       "      <td>15867308108</td>\n",
       "      <td>98417387004</td>\n",
       "    </tr>\n",
       "    <tr>\n",
       "      <td>276</td>\n",
       "      <td>2019-04-22</td>\n",
       "      <td>5312.49</td>\n",
       "      <td>5422.69</td>\n",
       "      <td>5280.28</td>\n",
       "      <td>5399.37</td>\n",
       "      <td>14601631648</td>\n",
       "      <td>95354207776</td>\n",
       "    </tr>\n",
       "    <tr>\n",
       "      <td>277</td>\n",
       "      <td>2019-04-21</td>\n",
       "      <td>5335.88</td>\n",
       "      <td>5359.93</td>\n",
       "      <td>5257.34</td>\n",
       "      <td>5314.53</td>\n",
       "      <td>13731844223</td>\n",
       "      <td>93847052256</td>\n",
       "    </tr>\n",
       "    <tr>\n",
       "      <td>278</td>\n",
       "      <td>2019-04-20</td>\n",
       "      <td>5304.16</td>\n",
       "      <td>5358.49</td>\n",
       "      <td>5295.88</td>\n",
       "      <td>5337.89</td>\n",
       "      <td>13169647522</td>\n",
       "      <td>94248717444</td>\n",
       "    </tr>\n",
       "    <tr>\n",
       "      <td>279</td>\n",
       "      <td>2019-04-19</td>\n",
       "      <td>5298.15</td>\n",
       "      <td>5336.68</td>\n",
       "      <td>5233.34</td>\n",
       "      <td>5303.81</td>\n",
       "      <td>13780238655</td>\n",
       "      <td>93638345002</td>\n",
       "    </tr>\n",
       "  </tbody>\n",
       "</table>\n",
       "</div>"
      ],
      "text/plain": [
       "           date     open     high      low    close       volume   market_cap\n",
       "275  2019-04-23  5399.37  5633.80  5389.41  5572.36  15867308108  98417387004\n",
       "276  2019-04-22  5312.49  5422.69  5280.28  5399.37  14601631648  95354207776\n",
       "277  2019-04-21  5335.88  5359.93  5257.34  5314.53  13731844223  93847052256\n",
       "278  2019-04-20  5304.16  5358.49  5295.88  5337.89  13169647522  94248717444\n",
       "279  2019-04-19  5298.15  5336.68  5233.34  5303.81  13780238655  93638345002"
      ]
     },
     "execution_count": 9,
     "metadata": {},
     "output_type": "execute_result"
    }
   ],
   "source": [
    "model_data.tail(5)"
   ]
  },
  {
   "cell_type": "markdown",
   "metadata": {},
   "source": [
    "### Build and Train Quantile Regression Models"
   ]
  },
  {
   "cell_type": "markdown",
   "metadata": {},
   "source": [
    "Specify quantiles for quantile regression"
   ]
  },
  {
   "cell_type": "code",
   "execution_count": 10,
   "metadata": {},
   "outputs": [],
   "source": [
    "# The base model is the one with the 0.5 quantile, while the 0.05 and 0.95 quantile models are lower and upper bounds \n",
    "# of the prediction interval\n",
    "# More more information, read \n",
    "# https://medium.com/@qucit/a-simple-technique-to-estimate-prediction-intervals-for-any-regression-model-2dd73f630bcb\n",
    "quantiles = [0.05, 0.5, 0.95]"
   ]
  },
  {
   "cell_type": "markdown",
   "metadata": {},
   "source": [
    "Define the generic loss function to be used with different quantiles"
   ]
  },
  {
   "cell_type": "code",
   "execution_count": 11,
   "metadata": {},
   "outputs": [],
   "source": [
    "# Code below is borrowed from https://towardsdatascience.com/deep-quantile-regression-c85481548b5a\n",
    "\n",
    "import keras.backend as K\n",
    "\n",
    "def tilted_loss(q, y, f):\n",
    "    \"\"\"\n",
    "    q: quantile,\n",
    "    y: true value,\n",
    "    f: predicted value\n",
    "    \"\"\"\n",
    "    \n",
    "    e = (y - f)\n",
    "    return K.mean(K.maximum(q*e, (q-1)*e), axis=-1)"
   ]
  },
  {
   "cell_type": "markdown",
   "metadata": {},
   "source": [
    "Build the model by adding layers, optimizer, loss, etc. for each quantile, train it and save it in a file"
   ]
  },
  {
   "cell_type": "code",
   "execution_count": 12,
   "metadata": {},
   "outputs": [
    {
     "name": "stdout",
     "output_type": "stream",
     "text": [
      "Build and train a model for quantile 0.05 ...\n",
      "Build and train a model for quantile 0.50 ...\n",
      "Build and train a model for quantile 0.95 ...\n"
     ]
    }
   ],
   "source": [
    "models = []\n",
    "quantile_names = ['lower', 'median', 'upper']\n",
    "for i, quantile in enumerate(quantiles):\n",
    "    # Initialize the Model class\n",
    "    M = Model(data=model_data,\n",
    "              variable='close',\n",
    "              predicted_period_size=int(os.getenv('PERIOD_SIZE')))\n",
    "    print('Build and train a model for quantile %.2f ...' % quantile)\n",
    "    # Specify the loss for a given quantile and build a model\n",
    "    M.build(loss=lambda y,f: tilted_loss(quantile, y, f))\n",
    "    # Train the model\n",
    "    M.train(epochs=int(os.getenv('EPOCHS')))\n",
    "    # Save the trained model in a file by appending the proper quantile name to the base model's name\n",
    "    filename, extension = os.path.splitext(os.getenv('MODEL_NAME'))\n",
    "    M.save(filename+'_{}'.format(quantile_names[i])+extension)\n",
    "    # Add the model to the list of model objects for later use in this notebook\n",
    "    models.append(M)"
   ]
  },
  {
   "cell_type": "markdown",
   "metadata": {},
   "source": [
    "### Predict one period ahead and plot of historic and predicted values\n",
    "The graph below shows both historic and predicted values in the same plot. "
   ]
  },
  {
   "cell_type": "code",
   "execution_count": 13,
   "metadata": {},
   "outputs": [],
   "source": [
    "def plot_two_series(A, B, variable, title, color, labelA, labelB):\n",
    "    \"\"\"\n",
    "    Plots two series using the same `date` index. \n",
    "    \n",
    "    Parameters\n",
    "    ----------\n",
    "    A, B: pd.DataFrame\n",
    "        Dataframe with a `date` key and a variable\n",
    "        passed in the `variable` parameter. Parameter A\n",
    "        represents the \"Observed\" series and B the \"Predicted\"\n",
    "        series. These will be labelled respectivelly. \n",
    "    \n",
    "    variable: str\n",
    "        Variable to use in plot.\n",
    "    \n",
    "    title: str\n",
    "        Plot title.\n",
    "        \n",
    "    LabelA, labelB: str\n",
    "        Timeseries title.\n",
    "    \n",
    "    \"\"\"\n",
    "    plt.figure(figsize=(14,7))\n",
    "\n",
    "    # Concatenate two Data Frames\n",
    "    C = pd.DataFrame(pd.concat([A, B]))\n",
    "            \n",
    "    import numpy as np\n",
    "    \n",
    "    ax = C.set_index('date')[variable].iloc[:A.shape[0]].plot(\n",
    "        xticks=C.index[np.arange(0,C.shape[0],int(os.getenv('PERIOD_SIZE')))],\n",
    "        linewidth=2, color='#d35400', grid=True, label=labelA, title=title, legend=True, rot=90)\n",
    "    C = C.reset_index(drop=True)\n",
    "    C[variable].iloc[A.shape[0]:].plot(\n",
    "        linewidth=2, color=color, grid=True, label=labelB, legend=True, rot=90, ax=ax)\n",
    "    \n",
    "    ax.set_xlabel(\"Predicted Week\")\n",
    "    ax.set_ylabel(\"Predicted Cryptocurrency Value\")\n",
    "\n",
    "    plt.show()"
   ]
  },
  {
   "cell_type": "markdown",
   "metadata": {},
   "source": [
    "Let's now plot the predicted timeseries versus the observed one using the `close` price values."
   ]
  },
  {
   "cell_type": "code",
   "execution_count": 14,
   "metadata": {},
   "outputs": [
    {
     "data": {
      "image/png": "[encoded data removed]",
      "text/plain": [
       "<Figure size 1008x504 with 1 Axes>"
      ]
     },
     "metadata": {},
     "output_type": "display_data"
    },
    {
     "data": {
      "text/html": [
       "<div>\n",
       "<style scoped>\n",
       "    .dataframe tbody tr th:only-of-type {\n",
       "        vertical-align: middle;\n",
       "    }\n",
       "\n",
       "    .dataframe tbody tr th {\n",
       "        vertical-align: top;\n",
       "    }\n",
       "\n",
       "    .dataframe thead th {\n",
       "        text-align: right;\n",
       "    }\n",
       "</style>\n",
       "<table border=\"1\" class=\"dataframe\">\n",
       "  <thead>\n",
       "    <tr style=\"text-align: right;\">\n",
       "      <th></th>\n",
       "      <th>date</th>\n",
       "      <th>lower prediction</th>\n",
       "      <th>median prediction</th>\n",
       "      <th>upper prediction</th>\n",
       "    </tr>\n",
       "  </thead>\n",
       "  <tbody>\n",
       "    <tr>\n",
       "      <td>0</td>\n",
       "      <td>2020-01-24</td>\n",
       "      <td>8397.13</td>\n",
       "      <td>8375.76</td>\n",
       "      <td>8445.28</td>\n",
       "    </tr>\n",
       "    <tr>\n",
       "      <td>1</td>\n",
       "      <td>2020-01-25</td>\n",
       "      <td>8762.73</td>\n",
       "      <td>8830.29</td>\n",
       "      <td>8841.47</td>\n",
       "    </tr>\n",
       "    <tr>\n",
       "      <td>2</td>\n",
       "      <td>2020-01-26</td>\n",
       "      <td>8976.08</td>\n",
       "      <td>9039.64</td>\n",
       "      <td>9023.66</td>\n",
       "    </tr>\n",
       "    <tr>\n",
       "      <td>3</td>\n",
       "      <td>2020-01-27</td>\n",
       "      <td>8689.81</td>\n",
       "      <td>8687.47</td>\n",
       "      <td>8716.84</td>\n",
       "    </tr>\n",
       "    <tr>\n",
       "      <td>4</td>\n",
       "      <td>2020-01-28</td>\n",
       "      <td>8535.19</td>\n",
       "      <td>8601.35</td>\n",
       "      <td>8602.11</td>\n",
       "    </tr>\n",
       "    <tr>\n",
       "      <td>5</td>\n",
       "      <td>2020-01-29</td>\n",
       "      <td>8589.67</td>\n",
       "      <td>8603.59</td>\n",
       "      <td>8614.67</td>\n",
       "    </tr>\n",
       "    <tr>\n",
       "      <td>6</td>\n",
       "      <td>2020-01-30</td>\n",
       "      <td>8525.01</td>\n",
       "      <td>8576.72</td>\n",
       "      <td>8565.58</td>\n",
       "    </tr>\n",
       "  </tbody>\n",
       "</table>\n",
       "</div>"
      ],
      "text/plain": [
       "         date  lower prediction  median prediction  upper prediction\n",
       "0  2020-01-24           8397.13            8375.76           8445.28\n",
       "1  2020-01-25           8762.73            8830.29           8841.47\n",
       "2  2020-01-26           8976.08            9039.64           9023.66\n",
       "3  2020-01-27           8689.81            8687.47           8716.84\n",
       "4  2020-01-28           8535.19            8601.35           8602.11\n",
       "5  2020-01-29           8589.67            8603.59           8614.67\n",
       "6  2020-01-30           8525.01            8576.72           8565.58"
      ]
     },
     "execution_count": 14,
     "metadata": {},
     "output_type": "execute_result"
    }
   ],
   "source": [
    "# Select only two columns that both historic observations and predictions share in common\n",
    "# Sort observations from the earliest date to the latest in order to conform with predictions format\n",
    "historic = model_data[['date', 'close']].sort_values(by=['date'], ascending=True)\n",
    "\n",
    "colors = ['red', 'green', 'blue']\n",
    "for i, model in enumerate(models):\n",
    "    # Make prediction by using a given model\n",
    "    predictions = model.predict(denormalized=True, return_dict=True)\n",
    "    # Convert the result to a DataFrame\n",
    "    predictions = pd.DataFrame(predictions)\n",
    "    # Rename a column with predictions\n",
    "    predictions.rename(columns={'prediction': quantile_names[i]+' prediction'}, inplace=True)\n",
    "    if i == 0:\n",
    "        # If this is the first time, just store current predictions\n",
    "        all_predictions = predictions\n",
    "    else:\n",
    "        # Otherwise, append the current predictions to the already collected ones\n",
    "        all_predictions = pd.merge(all_predictions, predictions, on='date')\n",
    "    if i == 1:\n",
    "        # Rename the column 'prediction' into 'close' in order to conform with column naming of the original data\n",
    "        predictions.rename(columns={quantile_names[i]+' prediction': 'close'}, inplace=True)\n",
    "        # Plot both timeseries\n",
    "        plot_two_series(historic, predictions, \n",
    "                        variable='close',\n",
    "                        title='De-normalized Predictions per Week',\n",
    "                        color=colors[i],\n",
    "                        labelA='Historic',\n",
    "                        labelB='Future')\n",
    "\n",
    "# Display predictions for all three models\n",
    "all_predictions.head(int(os.getenv('PERIOD_SIZE')))"
   ]
  },
  {
   "cell_type": "markdown",
   "metadata": {},
   "source": [
    "Finally, let us plot one-period-ahead predictions together with the corresponding prediction interval"
   ]
  },
  {
   "cell_type": "code",
   "execution_count": 15,
   "metadata": {},
   "outputs": [
    {
     "data": {
      "image/png": "[encoded data removed]",
      "text/plain": [
       "<Figure size 432x288 with 1 Axes>"
      ]
     },
     "metadata": {},
     "output_type": "display_data"
    }
   ],
   "source": [
    "# Plot model predictions for the future period and the prediction interval for these predictions\n",
    "# Due to the fact that each model is a simple rerun, there is a risk of quantile cross over, i.e. the 50th quantile may go \n",
    "# above the 95th quantile\n",
    "for i, color in enumerate(colors):\n",
    "    plt.plot(all_predictions['date'], all_predictions[quantile_names[i]+' prediction'], color, label=quantile_names[i])\n",
    "plt.xticks(rotation='vertical')\n",
    "plt.xlabel('Predicted Week')\n",
    "plt.ylabel('Predicted Cryptocurrency Value')\n",
    "plt.legend()\n",
    "plt.show()"
   ]
  }
 ],
 "metadata": {
  "kernelspec": {
   "display_name": "Python 3",
   "language": "python",
   "name": "python3"
  },
  "language_info": {
   "codemirror_mode": {
    "name": "ipython",
    "version": 3
   },
   "file_extension": ".py",
   "mimetype": "text/x-python",
   "name": "python",
   "nbconvert_exporter": "python",
   "pygments_lexer": "ipython3",
   "version": "3.6.9"
  }
 },
 "nbformat": 4,
 "nbformat_minor": 2
}
