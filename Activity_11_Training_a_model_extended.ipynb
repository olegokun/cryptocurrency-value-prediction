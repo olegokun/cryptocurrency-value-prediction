{
 "cells": [
  {
   "cell_type": "markdown",
   "metadata": {},
   "source": [
    "#### Magic Commands\n",
    "Magic commands (those that start with `%`) are commands that modify a configuration of Jupyter Notebooks. A number of magic commands are available by default (see list [here](http://ipython.readthedocs.io/en/stable/interactive/magics.html))--and many more can be added with extensions. The magic command added in this section allows `matplotlib` to display our plots directly on the browser instead of having to save them on a local file."
   ]
  },
  {
   "cell_type": "code",
   "execution_count": 1,
   "metadata": {},
   "outputs": [],
   "source": [
    "%matplotlib inline"
   ]
  },
  {
   "cell_type": "markdown",
   "metadata": {},
   "source": [
    "# Activity 11: Training several models\n",
    "In this activity, we train our model and two other models (for estimating the prediction interval) before their deployment with Docker.\n",
    "\n",
    "First, we start by importing `cryptonic`. Cryptonic is a simple software application developed for this course that implements all the steps up to this section using Python classes and modules. Consider Cryptonic a template on how you could develop similar applications."
   ]
  },
  {
   "cell_type": "code",
   "execution_count": 2,
   "metadata": {},
   "outputs": [
    {
     "name": "stdout",
     "output_type": "stream",
     "text": [
      "C:\\eBooks\\Beginning Application Development with TensorFlow and Keras\\Lesson-4\\activity_9\n"
     ]
    }
   ],
   "source": [
    "cd C:/eBooks/Beginning Application Development with TensorFlow and Keras/Lesson-4/activity_9"
   ]
  },
  {
   "cell_type": "code",
   "execution_count": 3,
   "metadata": {},
   "outputs": [
    {
     "data": {
      "text/plain": [
       "True"
      ]
     },
     "execution_count": 3,
     "metadata": {},
     "output_type": "execute_result"
    }
   ],
   "source": [
    "import pandas as pd\n",
    "import matplotlib.pylab as plt\n",
    "import os\n",
    "from dotenv import load_dotenv\n",
    "from pathlib import Path\n",
    "env_path = Path('.')/'crypto.env'\n",
    "load_dotenv(dotenv_path=env_path)"
   ]
  },
  {
   "cell_type": "code",
   "execution_count": 4,
   "metadata": {},
   "outputs": [],
   "source": [
    "plt.style.use('seaborn-white')"
   ]
  },
  {
   "cell_type": "code",
   "execution_count": 5,
   "metadata": {},
   "outputs": [
    {
     "name": "stderr",
     "output_type": "stream",
     "text": [
      "Using TensorFlow backend.\n",
      "C:\\Users\\Oleg\\Anaconda3\\envs\\appdev\\lib\\site-packages\\tensorflow\\python\\framework\\dtypes.py:469: FutureWarning: Passing (type, 1) or '1type' as a synonym of type is deprecated; in a future version of numpy, it will be understood as (type, (1,)) / '(1,)type'.\n",
      "  _np_qint8 = np.dtype([(\"qint8\", np.int8, 1)])\n",
      "C:\\Users\\Oleg\\Anaconda3\\envs\\appdev\\lib\\site-packages\\tensorflow\\python\\framework\\dtypes.py:470: FutureWarning: Passing (type, 1) or '1type' as a synonym of type is deprecated; in a future version of numpy, it will be understood as (type, (1,)) / '(1,)type'.\n",
      "  _np_quint8 = np.dtype([(\"quint8\", np.uint8, 1)])\n",
      "C:\\Users\\Oleg\\Anaconda3\\envs\\appdev\\lib\\site-packages\\tensorflow\\python\\framework\\dtypes.py:471: FutureWarning: Passing (type, 1) or '1type' as a synonym of type is deprecated; in a future version of numpy, it will be understood as (type, (1,)) / '(1,)type'.\n",
      "  _np_qint16 = np.dtype([(\"qint16\", np.int16, 1)])\n",
      "C:\\Users\\Oleg\\Anaconda3\\envs\\appdev\\lib\\site-packages\\tensorflow\\python\\framework\\dtypes.py:472: FutureWarning: Passing (type, 1) or '1type' as a synonym of type is deprecated; in a future version of numpy, it will be understood as (type, (1,)) / '(1,)type'.\n",
      "  _np_quint16 = np.dtype([(\"quint16\", np.uint16, 1)])\n",
      "C:\\Users\\Oleg\\Anaconda3\\envs\\appdev\\lib\\site-packages\\tensorflow\\python\\framework\\dtypes.py:473: FutureWarning: Passing (type, 1) or '1type' as a synonym of type is deprecated; in a future version of numpy, it will be understood as (type, (1,)) / '(1,)type'.\n",
      "  _np_qint32 = np.dtype([(\"qint32\", np.int32, 1)])\n",
      "C:\\Users\\Oleg\\Anaconda3\\envs\\appdev\\lib\\site-packages\\tensorflow\\python\\framework\\dtypes.py:476: FutureWarning: Passing (type, 1) or '1type' as a synonym of type is deprecated; in a future version of numpy, it will be understood as (type, (1,)) / '(1,)type'.\n",
      "  np_resource = np.dtype([(\"resource\", np.ubyte, 1)])\n"
     ]
    }
   ],
   "source": [
    "from cryptonic.models.model import Model\n",
    "from cryptonic.markets.coinmarketcap import CoinMarketCap"
   ]
  },
  {
   "cell_type": "markdown",
   "metadata": {},
   "source": [
    "### Fecthing Real-time Data\n",
    "Throughout this project we have been using data originally provided by [CoinMarketCat](https://coinmarketcap.com/). We have created an interface for collecting both real-time and historical data as as part of `cryptonic`: the class `CoinMarketCap()`."
   ]
  },
  {
   "cell_type": "markdown",
   "metadata": {},
   "source": [
    "Our model is designed to work with daily data. Let's go ahead and collect historic daily data from CoinMarketCap (this is the same data used previously)."
   ]
  },
  {
   "cell_type": "code",
   "execution_count": 6,
   "metadata": {},
   "outputs": [],
   "source": [
    "historic_data = CoinMarketCap.historic(ticker=os.getenv('COIN_TYPE'))"
   ]
  },
  {
   "cell_type": "markdown",
   "metadata": {},
   "source": [
    "The data contains practically the same variables from our earlier dataset. However, much of the data comes from an earlier period. Recent Bitcoin prices have gained a lot of volatility if compared to the prices of a few years ago. Before using this data in our model, let's make sure to filter it to dates no older than a certain number of most recent weeks."
   ]
  },
  {
   "cell_type": "code",
   "execution_count": 7,
   "metadata": {},
   "outputs": [],
   "source": [
    "#  Using the Pandas API, filter the dataframe\n",
    "from datetime import datetime, timedelta\n",
    "\n",
    "time_ago = (datetime.now() - timedelta(days=7*int(os.getenv('WEEKS_BACK')))).strftime('%Y-%m-%d')\n",
    "model_data = historic_data[historic_data['date'] >= time_ago]"
   ]
  },
  {
   "cell_type": "code",
   "execution_count": 8,
   "metadata": {},
   "outputs": [
    {
     "data": {
      "text/html": [
       "<div>\n",
       "<style scoped>\n",
       "    .dataframe tbody tr th:only-of-type {\n",
       "        vertical-align: middle;\n",
       "    }\n",
       "\n",
       "    .dataframe tbody tr th {\n",
       "        vertical-align: top;\n",
       "    }\n",
       "\n",
       "    .dataframe thead th {\n",
       "        text-align: right;\n",
       "    }\n",
       "</style>\n",
       "<table border=\"1\" class=\"dataframe\">\n",
       "  <thead>\n",
       "    <tr style=\"text-align: right;\">\n",
       "      <th></th>\n",
       "      <th>date</th>\n",
       "      <th>open</th>\n",
       "      <th>high</th>\n",
       "      <th>low</th>\n",
       "      <th>close</th>\n",
       "      <th>volume</th>\n",
       "      <th>market_cap</th>\n",
       "    </tr>\n",
       "  </thead>\n",
       "  <tbody>\n",
       "    <tr>\n",
       "      <td>0</td>\n",
       "      <td>2020-01-29</td>\n",
       "      <td>9357.47</td>\n",
       "      <td>9406.43</td>\n",
       "      <td>9269.47</td>\n",
       "      <td>9316.63</td>\n",
       "      <td>30682598115</td>\n",
       "      <td>169460984603</td>\n",
       "    </tr>\n",
       "    <tr>\n",
       "      <td>1</td>\n",
       "      <td>2020-01-28</td>\n",
       "      <td>8912.52</td>\n",
       "      <td>9358.59</td>\n",
       "      <td>8908.45</td>\n",
       "      <td>9358.59</td>\n",
       "      <td>34398744403</td>\n",
       "      <td>170205617955</td>\n",
       "    </tr>\n",
       "    <tr>\n",
       "      <td>2</td>\n",
       "      <td>2020-01-27</td>\n",
       "      <td>8597.31</td>\n",
       "      <td>8977.73</td>\n",
       "      <td>8597.31</td>\n",
       "      <td>8909.82</td>\n",
       "      <td>28647338393</td>\n",
       "      <td>162027957435</td>\n",
       "    </tr>\n",
       "    <tr>\n",
       "      <td>3</td>\n",
       "      <td>2020-01-26</td>\n",
       "      <td>8364.41</td>\n",
       "      <td>8602.40</td>\n",
       "      <td>8325.50</td>\n",
       "      <td>8596.83</td>\n",
       "      <td>22177678796</td>\n",
       "      <td>156322174637</td>\n",
       "    </tr>\n",
       "    <tr>\n",
       "      <td>4</td>\n",
       "      <td>2020-01-25</td>\n",
       "      <td>8440.12</td>\n",
       "      <td>8458.45</td>\n",
       "      <td>8296.22</td>\n",
       "      <td>8367.85</td>\n",
       "      <td>19647331549</td>\n",
       "      <td>152143262650</td>\n",
       "    </tr>\n",
       "  </tbody>\n",
       "</table>\n",
       "</div>"
      ],
      "text/plain": [
       "         date     open     high      low    close       volume    market_cap\n",
       "0  2020-01-29  9357.47  9406.43  9269.47  9316.63  30682598115  169460984603\n",
       "1  2020-01-28  8912.52  9358.59  8908.45  9358.59  34398744403  170205617955\n",
       "2  2020-01-27  8597.31  8977.73  8597.31  8909.82  28647338393  162027957435\n",
       "3  2020-01-26  8364.41  8602.40  8325.50  8596.83  22177678796  156322174637\n",
       "4  2020-01-25  8440.12  8458.45  8296.22  8367.85  19647331549  152143262650"
      ]
     },
     "execution_count": 8,
     "metadata": {},
     "output_type": "execute_result"
    }
   ],
   "source": [
    "model_data.head(5)"
   ]
  },
  {
   "cell_type": "code",
   "execution_count": 9,
   "metadata": {},
   "outputs": [
    {
     "data": {
      "text/html": [
       "<div>\n",
       "<style scoped>\n",
       "    .dataframe tbody tr th:only-of-type {\n",
       "        vertical-align: middle;\n",
       "    }\n",
       "\n",
       "    .dataframe tbody tr th {\n",
       "        vertical-align: top;\n",
       "    }\n",
       "\n",
       "    .dataframe thead th {\n",
       "        text-align: right;\n",
       "    }\n",
       "</style>\n",
       "<table border=\"1\" class=\"dataframe\">\n",
       "  <thead>\n",
       "    <tr style=\"text-align: right;\">\n",
       "      <th></th>\n",
       "      <th>date</th>\n",
       "      <th>open</th>\n",
       "      <th>high</th>\n",
       "      <th>low</th>\n",
       "      <th>close</th>\n",
       "      <th>volume</th>\n",
       "      <th>market_cap</th>\n",
       "    </tr>\n",
       "  </thead>\n",
       "  <tbody>\n",
       "    <tr>\n",
       "      <td>275</td>\n",
       "      <td>2019-04-29</td>\n",
       "      <td>5284.86</td>\n",
       "      <td>5311.27</td>\n",
       "      <td>5216.49</td>\n",
       "      <td>5247.35</td>\n",
       "      <td>13735490672</td>\n",
       "      <td>92737510865</td>\n",
       "    </tr>\n",
       "    <tr>\n",
       "      <td>276</td>\n",
       "      <td>2019-04-28</td>\n",
       "      <td>5271.75</td>\n",
       "      <td>5326.23</td>\n",
       "      <td>5255.68</td>\n",
       "      <td>5285.14</td>\n",
       "      <td>12819992056</td>\n",
       "      <td>93391244395</td>\n",
       "    </tr>\n",
       "    <tr>\n",
       "      <td>277</td>\n",
       "      <td>2019-04-27</td>\n",
       "      <td>5279.47</td>\n",
       "      <td>5310.75</td>\n",
       "      <td>5233.64</td>\n",
       "      <td>5268.29</td>\n",
       "      <td>13111274675</td>\n",
       "      <td>93086156556</td>\n",
       "    </tr>\n",
       "    <tr>\n",
       "      <td>278</td>\n",
       "      <td>2019-04-26</td>\n",
       "      <td>5210.30</td>\n",
       "      <td>5383.63</td>\n",
       "      <td>5177.37</td>\n",
       "      <td>5279.35</td>\n",
       "      <td>16812108040</td>\n",
       "      <td>93272287960</td>\n",
       "    </tr>\n",
       "    <tr>\n",
       "      <td>279</td>\n",
       "      <td>2019-04-25</td>\n",
       "      <td>5466.52</td>\n",
       "      <td>5542.24</td>\n",
       "      <td>5181.34</td>\n",
       "      <td>5210.52</td>\n",
       "      <td>15330283408</td>\n",
       "      <td>92046492864</td>\n",
       "    </tr>\n",
       "  </tbody>\n",
       "</table>\n",
       "</div>"
      ],
      "text/plain": [
       "           date     open     high      low    close       volume   market_cap\n",
       "275  2019-04-29  5284.86  5311.27  5216.49  5247.35  13735490672  92737510865\n",
       "276  2019-04-28  5271.75  5326.23  5255.68  5285.14  12819992056  93391244395\n",
       "277  2019-04-27  5279.47  5310.75  5233.64  5268.29  13111274675  93086156556\n",
       "278  2019-04-26  5210.30  5383.63  5177.37  5279.35  16812108040  93272287960\n",
       "279  2019-04-25  5466.52  5542.24  5181.34  5210.52  15330283408  92046492864"
      ]
     },
     "execution_count": 9,
     "metadata": {},
     "output_type": "execute_result"
    }
   ],
   "source": [
    "model_data.tail(5)"
   ]
  },
  {
   "cell_type": "markdown",
   "metadata": {},
   "source": [
    "### Build and Train Quantile Regression Models"
   ]
  },
  {
   "cell_type": "markdown",
   "metadata": {},
   "source": [
    "Specify quantiles for quantile regression"
   ]
  },
  {
   "cell_type": "code",
   "execution_count": 10,
   "metadata": {},
   "outputs": [],
   "source": [
    "# The base model is the one with the 0.5 quantile, while the 0.05 and 0.95 quantile models are lower and upper bounds \n",
    "# of the prediction interval\n",
    "# More more information, read \n",
    "# https://medium.com/@qucit/a-simple-technique-to-estimate-prediction-intervals-for-any-regression-model-2dd73f630bcb\n",
    "quantiles = [0.05, 0.5, 0.95]"
   ]
  },
  {
   "cell_type": "markdown",
   "metadata": {},
   "source": [
    "Define the custom loss function to be used with different quantiles"
   ]
  },
  {
   "cell_type": "code",
   "execution_count": 11,
   "metadata": {},
   "outputs": [],
   "source": [
    "# Code below is borrowed from https://towardsdatascience.com/deep-quantile-regression-c85481548b5a\n",
    "# Rules for writing a custom loss function with parameters are taken from\n",
    "# https://medium.com/@Bloomore/how-to-write-a-custom-loss-function-with-additional-arguments-in-keras-5f193929f7a0\n",
    "# These rules must be followed in order for external scripts to correctly load a trained model without the error message\n",
    "# \"Unknown loss function ...\"\n",
    "import keras.backend as K\n",
    "\n",
    "def tilted_loss(q):\n",
    "    def loss(y, f):\n",
    "        \"\"\"\n",
    "        q: quantile,\n",
    "        y: true value,\n",
    "        f: predicted value\n",
    "        \"\"\"\n",
    "\n",
    "        e = (y - f)\n",
    "        return K.mean(K.maximum(q*e, (q-1)*e), axis=-1)\n",
    "    return loss"
   ]
  },
  {
   "cell_type": "markdown",
   "metadata": {},
   "source": [
    "Build the model by adding layers, optimizer, loss, etc. for each quantile, train it and save it in a file"
   ]
  },
  {
   "cell_type": "code",
   "execution_count": 12,
   "metadata": {},
   "outputs": [
    {
     "name": "stdout",
     "output_type": "stream",
     "text": [
      "Build and train a model for quantile 0.05 ...\n",
      "Build and train a model for quantile 0.50 ...\n",
      "Build and train a model for quantile 0.95 ...\n"
     ]
    }
   ],
   "source": [
    "models = []\n",
    "quantile_names = ['lower', 'median', 'upper']\n",
    "for i, quantile in enumerate(quantiles):\n",
    "    # Initialize the Model class\n",
    "    M = Model(data=model_data,\n",
    "              variable='close',\n",
    "              predicted_period_size=int(os.getenv('PERIOD_SIZE')))\n",
    "    print('Build and train a model for quantile %.2f ...' % quantile)\n",
    "    # Specify the loss for a given quantile and build a model\n",
    "    M.build(loss=tilted_loss(quantile))\n",
    "    # Train the model\n",
    "    M.train(epochs=int(os.getenv('EPOCHS')))\n",
    "    # Save the trained model in a file by appending the proper quantile name to the base model's name\n",
    "    filename, extension = os.path.splitext(os.getenv('MODEL_NAME'))\n",
    "    M.save(filename+'_{}'.format(quantile_names[i])+extension)\n",
    "    # Add the model to the list of model objects for later use in this notebook\n",
    "    models.append(M)"
   ]
  },
  {
   "cell_type": "markdown",
   "metadata": {},
   "source": [
    "### Predict one period ahead and plot of historic and predicted values\n",
    "The graph below shows both historic and predicted values in the same plot. "
   ]
  },
  {
   "cell_type": "code",
   "execution_count": 13,
   "metadata": {},
   "outputs": [],
   "source": [
    "def plot_two_series(A, B, variable, title, color, labelA, labelB):\n",
    "    \"\"\"\n",
    "    Plots two series using the same `date` index. \n",
    "    \n",
    "    Parameters\n",
    "    ----------\n",
    "    A, B: pd.DataFrame\n",
    "        Dataframe with a `date` key and a variable\n",
    "        passed in the `variable` parameter. Parameter A\n",
    "        represents the \"Observed\" series and B the \"Predicted\"\n",
    "        series. These will be labelled respectivelly. \n",
    "    \n",
    "    variable: str\n",
    "        Variable to use in plot.\n",
    "    \n",
    "    title: str\n",
    "        Plot title.\n",
    "        \n",
    "    LabelA, labelB: str\n",
    "        Timeseries title.\n",
    "    \n",
    "    \"\"\"\n",
    "    plt.figure(figsize=(14,7))\n",
    "\n",
    "    # Concatenate two Data Frames\n",
    "    C = pd.DataFrame(pd.concat([A, B]))\n",
    "            \n",
    "    import numpy as np\n",
    "    \n",
    "    ax = C.set_index('date')[variable].iloc[:A.shape[0]].plot(\n",
    "        xticks=C.index[np.arange(0,C.shape[0],int(os.getenv('PERIOD_SIZE')))],\n",
    "        linewidth=2, color='#d35400', grid=True, label=labelA, title=title, legend=True, rot=90)\n",
    "    C = C.reset_index(drop=True)\n",
    "    C[variable].iloc[A.shape[0]:].plot(\n",
    "        linewidth=2, color=color, grid=True, label=labelB, legend=True, rot=90, ax=ax)\n",
    "    \n",
    "    ax.set_xlabel(\"Predicted Week\")\n",
    "    ax.set_ylabel(\"Predicted Cryptocurrency Value\")\n",
    "\n",
    "    plt.show()"
   ]
  },
  {
   "cell_type": "markdown",
   "metadata": {},
   "source": [
    "Let's now plot the predicted timeseries versus the observed one using the `close` price values."
   ]
  },
  {
   "cell_type": "code",
   "execution_count": 14,
   "metadata": {},
   "outputs": [
    {
     "data": {
      "image/png": "[encoded data removed]",
      "text/plain": [
       "<Figure size 1008x504 with 1 Axes>"
      ]
     },
     "metadata": {},
     "output_type": "display_data"
    },
    {
     "data": {
      "text/html": [
       "<div>\n",
       "<style scoped>\n",
       "    .dataframe tbody tr th:only-of-type {\n",
       "        vertical-align: middle;\n",
       "    }\n",
       "\n",
       "    .dataframe tbody tr th {\n",
       "        vertical-align: top;\n",
       "    }\n",
       "\n",
       "    .dataframe thead th {\n",
       "        text-align: right;\n",
       "    }\n",
       "</style>\n",
       "<table border=\"1\" class=\"dataframe\">\n",
       "  <thead>\n",
       "    <tr style=\"text-align: right;\">\n",
       "      <th></th>\n",
       "      <th>date</th>\n",
       "      <th>lower prediction</th>\n",
       "      <th>median prediction</th>\n",
       "      <th>upper prediction</th>\n",
       "    </tr>\n",
       "  </thead>\n",
       "  <tbody>\n",
       "    <tr>\n",
       "      <td>0</td>\n",
       "      <td>2020-01-30</td>\n",
       "      <td>9301.01</td>\n",
       "      <td>9328.52</td>\n",
       "      <td>9341.50</td>\n",
       "    </tr>\n",
       "    <tr>\n",
       "      <td>1</td>\n",
       "      <td>2020-01-31</td>\n",
       "      <td>9183.71</td>\n",
       "      <td>9227.82</td>\n",
       "      <td>9255.38</td>\n",
       "    </tr>\n",
       "    <tr>\n",
       "      <td>2</td>\n",
       "      <td>2020-02-01</td>\n",
       "      <td>9036.72</td>\n",
       "      <td>9030.53</td>\n",
       "      <td>9082.91</td>\n",
       "    </tr>\n",
       "    <tr>\n",
       "      <td>3</td>\n",
       "      <td>2020-02-02</td>\n",
       "      <td>9089.61</td>\n",
       "      <td>9098.20</td>\n",
       "      <td>9154.48</td>\n",
       "    </tr>\n",
       "    <tr>\n",
       "      <td>4</td>\n",
       "      <td>2020-02-03</td>\n",
       "      <td>9019.04</td>\n",
       "      <td>9073.63</td>\n",
       "      <td>9095.88</td>\n",
       "    </tr>\n",
       "    <tr>\n",
       "      <td>5</td>\n",
       "      <td>2020-02-04</td>\n",
       "      <td>9077.91</td>\n",
       "      <td>9091.21</td>\n",
       "      <td>9128.75</td>\n",
       "    </tr>\n",
       "    <tr>\n",
       "      <td>6</td>\n",
       "      <td>2020-02-05</td>\n",
       "      <td>8988.93</td>\n",
       "      <td>8997.82</td>\n",
       "      <td>9021.06</td>\n",
       "    </tr>\n",
       "  </tbody>\n",
       "</table>\n",
       "</div>"
      ],
      "text/plain": [
       "         date  lower prediction  median prediction  upper prediction\n",
       "0  2020-01-30           9301.01            9328.52           9341.50\n",
       "1  2020-01-31           9183.71            9227.82           9255.38\n",
       "2  2020-02-01           9036.72            9030.53           9082.91\n",
       "3  2020-02-02           9089.61            9098.20           9154.48\n",
       "4  2020-02-03           9019.04            9073.63           9095.88\n",
       "5  2020-02-04           9077.91            9091.21           9128.75\n",
       "6  2020-02-05           8988.93            8997.82           9021.06"
      ]
     },
     "execution_count": 14,
     "metadata": {},
     "output_type": "execute_result"
    }
   ],
   "source": [
    "# Select only two columns that both historic observations and predictions share in common\n",
    "# Sort observations from the earliest date to the latest in order to conform with predictions format\n",
    "historic = model_data[['date', 'close']].sort_values(by=['date'], ascending=True)\n",
    "\n",
    "colors = ['red', 'green', 'blue']\n",
    "for i, model in enumerate(models):\n",
    "    # Make prediction by using a given model\n",
    "    predictions = model.predict(denormalized=True, return_dict=True)\n",
    "    # Convert the result to a DataFrame\n",
    "    predictions = pd.DataFrame(predictions)\n",
    "    # Rename a column with predictions\n",
    "    predictions.rename(columns={'prediction': quantile_names[i]+' prediction'}, inplace=True)\n",
    "    if i == 0:\n",
    "        # If this is the first time, just store current predictions\n",
    "        all_predictions = predictions\n",
    "    else:\n",
    "        # Otherwise, append the current predictions to the already collected ones\n",
    "        all_predictions = pd.merge(all_predictions, predictions, on='date')\n",
    "    if i == 1:\n",
    "        # Rename the column 'prediction' into 'close' in order to conform with column naming of the original data\n",
    "        predictions.rename(columns={quantile_names[i]+' prediction': 'close'}, inplace=True)\n",
    "        # Plot both timeseries\n",
    "        plot_two_series(historic, predictions, \n",
    "                        variable='close',\n",
    "                        title='De-normalized Predictions per Week',\n",
    "                        color=colors[i],\n",
    "                        labelA='Historic',\n",
    "                        labelB='Future')\n",
    "\n",
    "# Display predictions for all three models\n",
    "all_predictions.head(int(os.getenv('PERIOD_SIZE')))"
   ]
  },
  {
   "cell_type": "markdown",
   "metadata": {},
   "source": [
    "Finally, let us plot one-period-ahead predictions together with the corresponding prediction interval"
   ]
  },
  {
   "cell_type": "code",
   "execution_count": 15,
   "metadata": {},
   "outputs": [
    {
     "data": {
      "image/png": "[encoded data removed]",
      "text/plain": [
       "<Figure size 432x288 with 1 Axes>"
      ]
     },
     "metadata": {},
     "output_type": "display_data"
    }
   ],
   "source": [
    "# Plot model predictions for the future period and the prediction interval for these predictions\n",
    "# Due to the fact that each model is a simple rerun, there is a risk of quantile cross over, i.e. the 50th quantile may go \n",
    "# above the 95th quantile\n",
    "for i, color in enumerate(colors):\n",
    "    plt.plot(all_predictions['date'], all_predictions[quantile_names[i]+' prediction'], color, label=quantile_names[i])\n",
    "plt.xticks(rotation='vertical')\n",
    "plt.xlabel('Predicted Week')\n",
    "plt.ylabel('Predicted Cryptocurrency Value')\n",
    "plt.legend()\n",
    "plt.show()"
   ]
  }
 ],
 "metadata": {
  "kernelspec": {
   "display_name": "Python 3",
   "language": "python",
   "name": "python3"
  },
  "language_info": {
   "codemirror_mode": {
    "name": "ipython",
    "version": 3
   },
   "file_extension": ".py",
   "mimetype": "text/x-python",
   "name": "python",
   "nbconvert_exporter": "python",
   "pygments_lexer": "ipython3",
   "version": "3.6.9"
  }
 },
 "nbformat": 4,
 "nbformat_minor": 2
}
